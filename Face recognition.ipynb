{
 "cells": [
  {
   "cell_type": "code",
   "execution_count": null,
   "id": "initial_id",
   "metadata": {
    "collapsed": true,
    "is_executing": true
   },
   "outputs": [],
   "source": [
    "pip install numpy pandas matplotlib opencv-python torch torchvision facenet-pytorch"
   ]
  },
  {
   "cell_type": "code",
   "outputs": [],
   "source": [
    "from torchvision import datasets, transforms\n",
    "\n",
    "transform = transforms.Compose([\n",
    "    transforms.Resize((160, 160)),  # resizing\n",
    "    transforms.ToTensor(),  # transform the data to tensors\n",
    "    transforms.Normalize([0.5], [0.5])  # normalization\n",
    "])\n",
    "\n",
    "lfw_dataset = datasets.LFWPeople(root=\"./data\", split=\"train\", transform=transform, download=True)\n",
    "print(f\"Dataset size: {len(lfw_dataset)} images\")"
   ],
   "metadata": {
    "collapsed": false
   },
   "id": "97ff890fec355d5c"
  },
  {
   "cell_type": "code",
   "outputs": [],
   "source": [
    "import matplotlib.pyplot as plt\n",
    "import numpy as np\n",
    "\n",
    "# some random data to show\n",
    "fig, axes = plt.subplots(1, 5, figsize=(15, 5))\n",
    "for i in range(5):\n",
    "    image, label = lfw_dataset[i]\n",
    "    image = image.permute(1, 2, 0).numpy()  \n",
    "    axes[i].imshow((image * 0.5) + 0.5)  \n",
    "    axes[i].set_title(f\"Label: {label}\")\n",
    "    axes[i].axis(\"off\")\n",
    "\n",
    "plt.show()"
   ],
   "metadata": {
    "collapsed": false
   },
   "id": "81376d6b8b7a61fb"
  },
  {
   "cell_type": "code",
   "outputs": [],
   "source": [
    "from torch.utils.data import DataLoader, random_split\n",
    "\n",
    "train_size = int(0.8 * len(lfw_dataset))\n",
    "test_size = len(lfw_dataset) - train_size\n",
    "\n",
    "train_dataset, test_dataset = random_split(lfw_dataset, [train_size, test_size])\n",
    "\n",
    "train_loader = DataLoader(train_dataset, batch_size=32, shuffle=True)\n",
    "test_loader = DataLoader(test_dataset, batch_size=32, shuffle=False)\n",
    "\n",
    "print(f\"Training samples: {len(train_dataset)}, Testing samples: {len(test_dataset)}\")"
   ],
   "metadata": {
    "collapsed": false
   },
   "id": "73237645af8f8062"
  },
  {
   "cell_type": "code",
   "outputs": [],
   "source": [
    "import torch\n",
    "import torch.nn as nn\n",
    "import torchvision.models as models\n",
    "\n",
    "device = torch.device(\"cuda\" if torch.cuda.is_available() else \"cpu\")\n",
    "\n",
    "# loading the model (pretrained)\n",
    "model = models.resnet18(pretrained=True)\n",
    "\n",
    "# chaning the last layer for lfw\n",
    "num_features = model.fc.in_features\n",
    "num_classes = len(set(lfw_dataset.targets)) \n",
    "model.fc = nn.Linear(num_features, num_classes)\n",
    "\n",
    "model = model.to(device)"
   ],
   "metadata": {
    "collapsed": false
   },
   "id": "888e4dba0c56dd72"
  },
  {
   "cell_type": "code",
   "outputs": [],
   "source": [
    "criterion = nn.CrossEntropyLoss()\n",
    "optimizer = torch.optim.Adam(model.parameters(), lr=0.001)"
   ],
   "metadata": {
    "collapsed": false
   },
   "id": "93385282fc71f2e9"
  },
  {
   "cell_type": "code",
   "outputs": [],
   "source": [
    "num_epochs = 5\n",
    "\n",
    "for epoch in range(num_epochs):\n",
    "    model.train()\n",
    "    running_loss = 0.0\n",
    "\n",
    "    for images, labels in train_loader:\n",
    "        images, labels = images.to(device), labels.to(device)\n",
    "\n",
    "        optimizer.zero_grad()\n",
    "        outputs = model(images)\n",
    "        loss = criterion(outputs, labels)\n",
    "        loss.backward()\n",
    "        optimizer.step()\n",
    "\n",
    "        running_loss += loss.item()\n",
    "\n",
    "    print(f\"Epoch {epoch+1}/{num_epochs}, Loss: {running_loss / len(train_loader):.4f}\")"
   ],
   "metadata": {
    "collapsed": false
   },
   "id": "36d879a9bcbce7e"
  },
  {
   "cell_type": "code",
   "outputs": [],
   "source": [
    "model.eval()\n",
    "correct = 0\n",
    "total = 0\n",
    "\n",
    "with torch.no_grad():\n",
    "    for images, labels in test_loader:\n",
    "        images, labels = images.to(device), labels.to(device)\n",
    "        outputs = model(images)\n",
    "        _, predicted = torch.max(outputs, 1)\n",
    "        total += labels.size(0)\n",
    "        correct += (predicted == labels).sum().item()\n",
    "\n",
    "accuracy = 100 * correct / total\n",
    "print(f\"Test Accuracy: {accuracy:.2f}%\")"
   ],
   "metadata": {
    "collapsed": false
   },
   "id": "1a94a62232fc4284"
  }
 ],
 "metadata": {
  "kernelspec": {
   "display_name": "Python 3",
   "language": "python",
   "name": "python3"
  },
  "language_info": {
   "codemirror_mode": {
    "name": "ipython",
    "version": 2
   },
   "file_extension": ".py",
   "mimetype": "text/x-python",
   "name": "python",
   "nbconvert_exporter": "python",
   "pygments_lexer": "ipython2",
   "version": "2.7.6"
  }
 },
 "nbformat": 4,
 "nbformat_minor": 5
}
